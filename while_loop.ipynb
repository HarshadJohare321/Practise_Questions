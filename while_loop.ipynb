{
 "cells": [
  {
   "cell_type": "code",
   "execution_count": 1,
   "id": "4ae515a5",
   "metadata": {},
   "outputs": [
    {
     "name": "stdout",
     "output_type": "stream",
     "text": [
      "please enter basic salary55\n"
     ]
    }
   ],
   "source": [
    "basic=input('please enter basic salary')\n"
   ]
  },
  {
   "cell_type": "code",
   "execution_count": null,
   "id": "abf578e8",
   "metadata": {},
   "outputs": [],
   "source": []
  },
  {
   "cell_type": "code",
   "execution_count": null,
   "id": "e86e8cc7",
   "metadata": {},
   "outputs": [],
   "source": []
  },
  {
   "cell_type": "code",
   "execution_count": 2,
   "id": "5e1b4026",
   "metadata": {},
   "outputs": [
    {
     "name": "stdout",
     "output_type": "stream",
     "text": [
      "please enter basic salary55\n"
     ]
    },
    {
     "ename": "TypeError",
     "evalue": "can't multiply sequence by non-int of type 'float'",
     "output_type": "error",
     "traceback": [
      "\u001b[1;31m---------------------------------------------------------------------------\u001b[0m",
      "\u001b[1;31mTypeError\u001b[0m                                 Traceback (most recent call last)",
      "\u001b[1;32m~\\AppData\\Local\\Temp\\ipykernel_15716\\1688835714.py\u001b[0m in \u001b[0;36m<module>\u001b[1;34m\u001b[0m\n\u001b[0;32m      1\u001b[0m \u001b[0mbasic\u001b[0m\u001b[1;33m=\u001b[0m\u001b[0minput\u001b[0m\u001b[1;33m(\u001b[0m\u001b[1;34m'please enter basic salary'\u001b[0m\u001b[1;33m)\u001b[0m\u001b[1;33m\u001b[0m\u001b[1;33m\u001b[0m\u001b[0m\n\u001b[1;32m----> 2\u001b[1;33m \u001b[0mgross\u001b[0m\u001b[1;33m=\u001b[0m\u001b[0mbasic\u001b[0m\u001b[1;33m+\u001b[0m\u001b[1;33m(\u001b[0m\u001b[0mbasic\u001b[0m\u001b[1;33m*\u001b[0m\u001b[1;36m.20\u001b[0m\u001b[1;33m)\u001b[0m\u001b[1;33m+\u001b[0m\u001b[1;33m(\u001b[0m\u001b[0mbasic\u001b[0m\u001b[1;33m)\u001b[0m\u001b[1;33m\u001b[0m\u001b[1;33m\u001b[0m\u001b[0m\n\u001b[0m",
      "\u001b[1;31mTypeError\u001b[0m: can't multiply sequence by non-int of type 'float'"
     ]
    }
   ],
   "source": [
    "55\n"
   ]
  },
  {
   "cell_type": "code",
   "execution_count": null,
   "id": "4440ae57",
   "metadata": {},
   "outputs": [],
   "source": [
    "basic=input('please enter basic salary')\n",
    "gross=basic+(basic*.20)+(basic*.30)\n",
    "print(gross)"
   ]
  },
  {
   "cell_type": "code",
   "execution_count": null,
   "id": "9ab4a10d",
   "metadata": {},
   "outputs": [],
   "source": [
    "basic=input('please enter basic salary')\n",
    "gross=(basic+(basic*.20)+(basic*.30))\n",
    "print(gross)\n"
   ]
  },
  {
   "cell_type": "code",
   "execution_count": null,
   "id": "ed485230",
   "metadata": {},
   "outputs": [],
   "source": [
    "name=input('Enter your name : ')\n",
    "e_id=int(intput('Enter your employee id : '))\n",
    "basic=int('Enter your basic salary : ')\n",
    "print('Thanks for providing your valuable information ! ')\n",
    "hra=0.2*basic\n",
    "dra=0.3*basic\n",
    "gross=basic+hra+dra\n",
    "print('Your information is processed')\n",
    "print('The gross salary of' ,name, 'with employee id', e_id ,'is',gross)"
   ]
  },
  {
   "cell_type": "code",
   "execution_count": null,
   "id": "1cf3dae3",
   "metadata": {},
   "outputs": [],
   "source": [
    "                                  "
   ]
  },
  {
   "cell_type": "code",
   "execution_count": null,
   "id": "2eeed00b",
   "metadata": {},
   "outputs": [],
   "source": []
  },
  {
   "cell_type": "code",
   "execution_count": null,
   "id": "20a4c705",
   "metadata": {},
   "outputs": [],
   "source": []
  },
  {
   "cell_type": "code",
   "execution_count": 5,
   "id": "c5b9f483",
   "metadata": {},
   "outputs": [
    {
     "name": "stdout",
     "output_type": "stream",
     "text": [
      "Enter your name : ji\n",
      "Enter your employee id : 123456\n",
      "Enter your basic salary : 50000\n",
      "Thanks for providing your valuable information ! \n",
      "Your information is processed\n",
      "The gross salary of ji with employee id 123456 is 75000.0\n"
     ]
    }
   ],
   "source": [
    "name=input('Enter your name : ')\n",
    "e_id=int(input('Enter your employee id : '))\n",
    "basic=int(input('Enter your basic salary : '))\n",
    "print('Thanks for providing your valuable information ! ')\n",
    "hra=0.2*basic\n",
    "dra=0.3*basic\n",
    "gross=basic+hra+dra\n",
    "print('Your information is processed')\n",
    "print('The gross salary of' ,name, 'with employee id', e_id ,'is',gross)\n"
   ]
  },
  {
   "cell_type": "code",
   "execution_count": 9,
   "id": "2c714879",
   "metadata": {},
   "outputs": [
    {
     "name": "stdout",
     "output_type": "stream",
     "text": [
      "Enter first number12\n",
      "Enter second number3\n"
     ]
    },
    {
     "ename": "TypeError",
     "evalue": "unsupported operand type(s) for -: 'str' and 'str'",
     "output_type": "error",
     "traceback": [
      "\u001b[1;31m---------------------------------------------------------------------------\u001b[0m",
      "\u001b[1;31mTypeError\u001b[0m                                 Traceback (most recent call last)",
      "\u001b[1;32m~\\AppData\\Local\\Temp\\ipykernel_15716\\3607972726.py\u001b[0m in \u001b[0;36m<module>\u001b[1;34m\u001b[0m\n\u001b[0;32m      2\u001b[0m \u001b[0mnum2\u001b[0m\u001b[1;33m=\u001b[0m\u001b[0minput\u001b[0m\u001b[1;33m(\u001b[0m\u001b[1;34m'Enter second number'\u001b[0m\u001b[1;33m)\u001b[0m\u001b[1;33m\u001b[0m\u001b[1;33m\u001b[0m\u001b[0m\n\u001b[0;32m      3\u001b[0m \u001b[1;31m#add=num1+num2\u001b[0m\u001b[1;33m\u001b[0m\u001b[1;33m\u001b[0m\u001b[0m\n\u001b[1;32m----> 4\u001b[1;33m \u001b[0msub\u001b[0m\u001b[1;33m=\u001b[0m\u001b[1;33m(\u001b[0m\u001b[0mnum1\u001b[0m \u001b[1;33m-\u001b[0m \u001b[0mnum2\u001b[0m\u001b[1;33m)\u001b[0m\u001b[1;33m\u001b[0m\u001b[1;33m\u001b[0m\u001b[0m\n\u001b[0m\u001b[0;32m      5\u001b[0m \u001b[0mmul\u001b[0m\u001b[1;33m=\u001b[0m\u001b[0mnum1\u001b[0m\u001b[1;33m*\u001b[0m\u001b[0mnum2\u001b[0m\u001b[1;33m\u001b[0m\u001b[1;33m\u001b[0m\u001b[0m\n\u001b[0;32m      6\u001b[0m \u001b[0mdiv\u001b[0m\u001b[1;33m=\u001b[0m\u001b[0mnum1\u001b[0m\u001b[1;33m/\u001b[0m\u001b[0mnum2\u001b[0m\u001b[1;33m\u001b[0m\u001b[1;33m\u001b[0m\u001b[0m\n",
      "\u001b[1;31mTypeError\u001b[0m: unsupported operand type(s) for -: 'str' and 'str'"
     ]
    }
   ],
   "source": [
    "num1=input('Enter first number')\n",
    "num2=input('Enter second number')\n",
    "#add=num1+num2\n",
    "sub=(num1 - num2)\n",
    "mul=num1*num2\n",
    "div=num1/num2\n",
    "print('Addition is',add)\n",
    "print('Subtraction is ',sub)"
   ]
  },
  {
   "cell_type": "code",
   "execution_count": 11,
   "id": "5a2b2278",
   "metadata": {},
   "outputs": [
    {
     "name": "stdout",
     "output_type": "stream",
     "text": [
      "Enter first number12\n",
      "Enter second number3\n"
     ]
    },
    {
     "ename": "TypeError",
     "evalue": "can't multiply sequence by non-int of type 'str'",
     "output_type": "error",
     "traceback": [
      "\u001b[1;31m---------------------------------------------------------------------------\u001b[0m",
      "\u001b[1;31mTypeError\u001b[0m                                 Traceback (most recent call last)",
      "\u001b[1;32m~\\AppData\\Local\\Temp\\ipykernel_15716\\3236306698.py\u001b[0m in \u001b[0;36m<module>\u001b[1;34m\u001b[0m\n\u001b[0;32m      3\u001b[0m \u001b[0madd\u001b[0m\u001b[1;33m=\u001b[0m\u001b[0mnum1\u001b[0m\u001b[1;33m+\u001b[0m\u001b[0mnum2\u001b[0m\u001b[1;33m\u001b[0m\u001b[1;33m\u001b[0m\u001b[0m\n\u001b[0;32m      4\u001b[0m \u001b[1;31m#sub=(num1 - num2)\u001b[0m\u001b[1;33m\u001b[0m\u001b[1;33m\u001b[0m\u001b[0m\n\u001b[1;32m----> 5\u001b[1;33m \u001b[0mmul\u001b[0m\u001b[1;33m=\u001b[0m\u001b[0mnum1\u001b[0m\u001b[1;33m*\u001b[0m\u001b[0mnum2\u001b[0m\u001b[1;33m\u001b[0m\u001b[1;33m\u001b[0m\u001b[0m\n\u001b[0m\u001b[0;32m      6\u001b[0m \u001b[0mdiv\u001b[0m\u001b[1;33m=\u001b[0m\u001b[0mnum1\u001b[0m\u001b[1;33m/\u001b[0m\u001b[0mnum2\u001b[0m\u001b[1;33m\u001b[0m\u001b[1;33m\u001b[0m\u001b[0m\n\u001b[0;32m      7\u001b[0m \u001b[0mprint\u001b[0m\u001b[1;33m(\u001b[0m\u001b[1;34m'Addition is'\u001b[0m\u001b[1;33m,\u001b[0m\u001b[0madd\u001b[0m\u001b[1;33m)\u001b[0m\u001b[1;33m\u001b[0m\u001b[1;33m\u001b[0m\u001b[0m\n",
      "\u001b[1;31mTypeError\u001b[0m: can't multiply sequence by non-int of type 'str'"
     ]
    }
   ],
   "source": [
    "num1=input('Enter first number')\n",
    "num2=input('Enter second number')\n",
    "add=num1+num2\n",
    "#sub=(num1 - num2)\n",
    "mul=num1*num2\n",
    "div=num1/num2\n",
    "print('Addition is',add)\n",
    "print('Subtraction is ',sub)"
   ]
  },
  {
   "cell_type": "code",
   "execution_count": 11,
   "id": "20b9d956",
   "metadata": {},
   "outputs": [
    {
     "name": "stdout",
     "output_type": "stream",
     "text": [
      "Enter no of iteration7\n",
      "Enter a value8\n",
      "Enter a value8\n",
      "Enter a value8\n",
      "Enter a value8\n",
      "Enter a value8\n",
      "Enter a value8\n",
      "Enter a value8\n",
      "8.0\n"
     ]
    }
   ],
   "source": [
    "n=int(input('Enter no of iteration'))\n",
    "count=0\n",
    "sum=0\n",
    "while count<n :\n",
    "    num=int(input('Enter a value'))\n",
    "    if num==0:\n",
    "        break\n",
    "    else:\n",
    "        sum+=num\n",
    "        count+=1\n",
    "    \n",
    "average=sum/count\n",
    "print(average)"
   ]
  },
  {
   "cell_type": "code",
   "execution_count": null,
   "id": "9a30773c",
   "metadata": {},
   "outputs": [],
   "source": []
  },
  {
   "cell_type": "code",
   "execution_count": 13,
   "id": "25850fb6",
   "metadata": {},
   "outputs": [
    {
     "name": "stdout",
     "output_type": "stream",
     "text": [
      "1\n",
      "2\n",
      "3\n",
      "4\n",
      "5\n",
      "6\n",
      "7\n",
      "8\n",
      "9\n",
      "10\n",
      "11\n",
      "12\n",
      "13\n",
      "14\n",
      "15\n",
      "16\n",
      "17\n",
      "18\n",
      "19\n",
      "20\n",
      "21\n",
      "22\n",
      "23\n",
      "24\n"
     ]
    }
   ],
   "source": [
    "#control statement -->controls the flow of the loop\n",
    "#break,continue,pass\n",
    "\n",
    "for i in range(1,51):\n",
    "     if i==25:\n",
    "        break\n",
    "     print(i)   "
   ]
  },
  {
   "cell_type": "code",
   "execution_count": null,
   "id": "b2f813b7",
   "metadata": {},
   "outputs": [],
   "source": []
  },
  {
   "cell_type": "code",
   "execution_count": 18,
   "id": "12f89ae7",
   "metadata": {},
   "outputs": [
    {
     "name": "stdout",
     "output_type": "stream",
     "text": [
      "1\n",
      "2\n",
      "3\n",
      "4\n",
      "6\n",
      "7\n",
      "8\n",
      "9\n",
      "11\n",
      "12\n",
      "13\n",
      "14\n",
      "16\n",
      "17\n",
      "18\n",
      "19\n",
      "21\n",
      "22\n",
      "23\n",
      "24\n",
      "26\n",
      "27\n",
      "28\n",
      "29\n",
      "31\n",
      "32\n",
      "33\n",
      "34\n",
      "36\n",
      "37\n",
      "38\n",
      "39\n",
      "41\n",
      "42\n",
      "43\n",
      "44\n",
      "46\n",
      "47\n",
      "48\n",
      "49\n"
     ]
    }
   ],
   "source": [
    "for i in range (1,51):\n",
    "    if i%5==0:\n",
    "        continue\n",
    "    print(i)"
   ]
  },
  {
   "cell_type": "code",
   "execution_count": 3,
   "id": "9befa4ff",
   "metadata": {},
   "outputs": [
    {
     "name": "stdout",
     "output_type": "stream",
     "text": [
      "1\n",
      "2\n",
      "3\n",
      "4\n",
      "5\n",
      "6\n",
      "7\n",
      "8\n",
      "9\n"
     ]
    }
   ],
   "source": [
    "# 1-while loop -->\n",
    "#usecase-->when no of iteration are not known\n",
    "#initilization is mandatory\n",
    "#increment is required\n",
    "i=1\n",
    "while i<10:\n",
    "  print(i)\n",
    "  i+=1\n",
    "    "
   ]
  },
  {
   "cell_type": "code",
   "execution_count": 1,
   "id": "defbf2b8",
   "metadata": {},
   "outputs": [],
   "source": [
    "# 2-for loop\n",
    "#usecase--> when no of itereation are known\n",
    "#initilization is not manadatory\n",
    "#increment is not required\n",
    "\n"
   ]
  },
  {
   "cell_type": "code",
   "execution_count": 8,
   "id": "c0d1c50a",
   "metadata": {},
   "outputs": [
    {
     "name": "stdout",
     "output_type": "stream",
     "text": [
      "[]\n"
     ]
    }
   ],
   "source": [
    "    \n",
    "    \n",
    "    "
   ]
  },
  {
   "cell_type": "code",
   "execution_count": null,
   "id": "e4eb94ec",
   "metadata": {},
   "outputs": [],
   "source": []
  },
  {
   "cell_type": "code",
   "execution_count": 3,
   "id": "40f173e0",
   "metadata": {},
   "outputs": [
    {
     "name": "stdout",
     "output_type": "stream",
     "text": [
      "Enter your credit limit : 5000\n",
      "Enter the amount4500\n",
      "Enter the amount1000\n",
      "Total amount is 5500\n",
      "Total purchase made is  [4500, 1000]\n",
      "The amount left is  -500\n"
     ]
    }
   ],
   "source": [
    "limit=int(input('Enter your credit limit : '))\n",
    "expend=[]\n",
    "sum=0\n",
    "while sum<limit:\n",
    "    amount=int(input('Enter the amount'))\n",
    "    if amount<=0:\n",
    "        break\n",
    "    else:\n",
    "        sum+=amount\n",
    "        expend.append(amount)\n",
    "print('Total amount is',sum)\n",
    "print('Total purchase made is ',expend)\n",
    "print('The amount left is ',(limit-sum))\n",
    "        \n",
    "        "
   ]
  },
  {
   "cell_type": "code",
   "execution_count": null,
   "id": "aeb78ebf",
   "metadata": {},
   "outputs": [],
   "source": []
  }
 ],
 "metadata": {
  "kernelspec": {
   "display_name": "Python 3 (ipykernel)",
   "language": "python",
   "name": "python3"
  },
  "language_info": {
   "codemirror_mode": {
    "name": "ipython",
    "version": 3
   },
   "file_extension": ".py",
   "mimetype": "text/x-python",
   "name": "python",
   "nbconvert_exporter": "python",
   "pygments_lexer": "ipython3",
   "version": "3.9.13"
  }
 },
 "nbformat": 4,
 "nbformat_minor": 5
}
