{
 "cells": [
  {
   "cell_type": "code",
   "execution_count": 3,
   "id": "e836e2b0",
   "metadata": {},
   "outputs": [
    {
     "name": "stdout",
     "output_type": "stream",
     "text": [
      "Ankush   10\n"
     ]
    }
   ],
   "source": [
    "class A :\n",
    "    age=10\n",
    "    def __init__(self):\n",
    "        name=\"Ankush\"\n",
    "        print(name,\" \",self.age)\n",
    "obj=A()  \n"
   ]
  },
  {
   "cell_type": "code",
   "execution_count": 5,
   "id": "10f262e8",
   "metadata": {},
   "outputs": [
    {
     "name": "stdout",
     "output_type": "stream",
     "text": [
      "Harshad   Nagpur\n",
      "30\n"
     ]
    }
   ],
   "source": [
    "class A:\n",
    "    name=\"Harshad\"\n",
    "    age=30\n",
    "    def __init__(self):\n",
    "        address=\"Nagpur\"\n",
    "        print(self.name,\" \",address)\n",
    "    def show(self):\n",
    "        print(self.age)\n",
    "        \n",
    "obj=A()\n",
    "obj.show()"
   ]
  },
  {
   "cell_type": "code",
   "execution_count": 7,
   "id": "ebf6ab27",
   "metadata": {},
   "outputs": [
    {
     "name": "stdout",
     "output_type": "stream",
     "text": [
      "30 kamptee harshad Harshad\n",
      "Harshad\n"
     ]
    }
   ],
   "source": [
    "class A:\n",
    "    name2=\"Harshad\"\n",
    "    def __init__(self,name,address,age):\n",
    "          address=\"kamptee\"\n",
    "          print(age,address,name,self.name2)\n",
    "    \n",
    "    def show(self):\n",
    "        print(self.name2)\n",
    "        \n",
    "obj=A(\"harshad\",\"Kamptee\",30)\n",
    "obj.show()\n",
    "\n",
    "       "
   ]
  },
  {
   "cell_type": "code",
   "execution_count": 10,
   "id": "6d0ee28f",
   "metadata": {},
   "outputs": [
    {
     "name": "stdout",
     "output_type": "stream",
     "text": [
      "10 20 None\n",
      "Addition  30\n"
     ]
    }
   ],
   "source": [
    "class A:\n",
    "    a=10\n",
    "    _b=20\n",
    "    __c=None\n",
    "    print(a,_b,__c)\n",
    "    def add(self):\n",
    "        self.__c=self.a+self._b\n",
    "        print(\"Addition \",self.__c)\n",
    "        \n",
    "obj=A()\n",
    "obj.add()"
   ]
  },
  {
   "cell_type": "code",
   "execution_count": 11,
   "id": "6d7a2721",
   "metadata": {},
   "outputs": [
    {
     "name": "stdout",
     "output_type": "stream",
     "text": [
      "50 acers of lands\n",
      "Having 10 lakhs of money\n",
      "---------------------\n",
      "50 acers of lands\n"
     ]
    }
   ],
   "source": [
    "class father:\n",
    "    def lands(self):\n",
    "        print(\"50 acers of lands\")\n",
    "        \n",
    "class son(father):\n",
    "    def money(self):\n",
    "        print(\"Having 10 lakhs of money\")\n",
    "        \n",
    "s=son()\n",
    "s.lands()\n",
    "s.money()\n",
    "\n",
    "print(\"---------------------\")\n",
    "f=father()\n",
    "f.lands()"
   ]
  },
  {
   "cell_type": "code",
   "execution_count": 12,
   "id": "006c76a3",
   "metadata": {},
   "outputs": [
    {
     "name": "stdout",
     "output_type": "stream",
     "text": [
      "Having BMW bike\n",
      "Having 10 lakhs of money\n",
      "50 acers of lands\n",
      "---------------------\n",
      "Having 10 lakhs of money\n",
      "50 acers of lands\n",
      "---------------------\n",
      "50 acers of lands\n"
     ]
    }
   ],
   "source": [
    "class father:\n",
    "    def lands(self):\n",
    "        print(\"50 acers of lands\")\n",
    "        \n",
    "class son(father):\n",
    "    def money(self):\n",
    "        print(\"Having 10 lakhs of money\")\n",
    "class gson(son):\n",
    "    def bike(self):\n",
    "        print(\"Having BMW bike\")\n",
    "        \n",
    "gs=gson()\n",
    "gs.bike()\n",
    "gs.money()\n",
    "gs.lands()\n",
    "print(\"---------------------\")\n",
    "s=son()\n",
    "s.money()\n",
    "s.lands()\n",
    "print(\"---------------------\")\n",
    "f=father()\n",
    "f.lands()"
   ]
  },
  {
   "cell_type": "code",
   "execution_count": 17,
   "id": "14851e05",
   "metadata": {},
   "outputs": [
    {
     "name": "stdout",
     "output_type": "stream",
     "text": [
      "Back end tast implement using  : oracalDB and java\n",
      "Front end task implement using : HTML CSS java script\n",
      "Dynamic website\n"
     ]
    }
   ],
   "source": [
    "#Inheritance which contain more parent classes and only one child class is called multiple inheritance.\n",
    "class Harshad:\n",
    "    back=\"oracalDB and java\"\n",
    "    def backend(self):\n",
    "        print(\"Back end tast implement using  :\",self.back)\n",
    "        \n",
    "class Rahul:\n",
    "    front=\"HTML CSS java script\"\n",
    "    def frontend(self):\n",
    "        print(\"Front end task implement using :\",self.front)\n",
    "        \n",
    "class Teamlead(Harshad,Rahul):\n",
    "    def show(self):\n",
    "        print(\"Dynamic website\")\n",
    "t=Teamlead()\n",
    "t.backend()\n",
    "t.frontend()\n",
    "t.show()\n",
    "    \n"
   ]
  },
  {
   "cell_type": "code",
   "execution_count": 19,
   "id": "3814b7e5",
   "metadata": {},
   "outputs": [
    {
     "name": "stdout",
     "output_type": "stream",
     "text": [
      "My name is Harshad  Johare\n",
      "My surname is  Johare\n",
      "_________________\n",
      "My name is Himanshu  Johare\n",
      "My surname is  Johare\n",
      "_________________\n",
      "My surname is  Johare\n"
     ]
    }
   ],
   "source": [
    "#Inheritance which contain only one parent class and multiple child classes ,but each child class can access parent class \n",
    "#property\n",
    "\n",
    "class father:\n",
    "    surname=\"Johare\"\n",
    "    def show(self):\n",
    "        print(\"My surname is \",self.surname)\n",
    "class son1(father):\n",
    "    def disp(self):\n",
    "        print(\"My name is Harshad \",self.surname)\n",
    "class son2(father):\n",
    "    def disp(self):\n",
    "        print(\"My name is Himanshu \",self.surname)  \n",
    "        \n",
    "        \n",
    "s1=son1()\n",
    "s1.disp()\n",
    "s1.show()\n",
    "print(\"_________________\")\n",
    "s2=son2()\n",
    "s2.disp()\n",
    "s2.show()\n",
    "print(\"_________________\")\n",
    "f=father()\n",
    "f.show()"
   ]
  },
  {
   "cell_type": "code",
   "execution_count": 23,
   "id": "bf8c1447",
   "metadata": {},
   "outputs": [
    {
     "name": "stdout",
     "output_type": "stream",
     "text": [
      "a=  10\n",
      "b=  20\n",
      "outside of class  10\n"
     ]
    }
   ],
   "source": [
    "# a process of wrapping code and data together into a single unit(encapsulation\n",
    "class A:\n",
    "    _a=10\n",
    "    __b=20\n",
    "    def show(self):\n",
    "        print(\"a= \",self._a)\n",
    "        print(\"b= \",self.__b)\n",
    "        \n",
    "obj=A()\n",
    "obj.show()\n",
    "print(\"outside of class \",obj._a)\n",
    "#print(\"outside of class \",obj.__b)"
   ]
  },
  {
   "cell_type": "code",
   "execution_count": null,
   "id": "c646386a",
   "metadata": {},
   "outputs": [],
   "source": [
    "#Abstraction is process of hiding the implementation details from teh user only the highlighted set of services provided to \n",
    "#the user\n",
    "\n"
   ]
  }
 ],
 "metadata": {
  "kernelspec": {
   "display_name": "Python 3 (ipykernel)",
   "language": "python",
   "name": "python3"
  },
  "language_info": {
   "codemirror_mode": {
    "name": "ipython",
    "version": 3
   },
   "file_extension": ".py",
   "mimetype": "text/x-python",
   "name": "python",
   "nbconvert_exporter": "python",
   "pygments_lexer": "ipython3",
   "version": "3.9.13"
  }
 },
 "nbformat": 4,
 "nbformat_minor": 5
}
