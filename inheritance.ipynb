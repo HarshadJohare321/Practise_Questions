{
 "cells": [
  {
   "cell_type": "code",
   "execution_count": null,
   "id": "954eacc9",
   "metadata": {},
   "outputs": [],
   "source": [
    "#What is inheritance in Python? What are the different types of inheritance? Write an example code \n",
    "#snippet for Single Inheritance and Multilevel Inheritance.\n",
    "\n",
    "\"\"\"One of the core concepts in object-oriented programming (OOP) languages is inheritance. It is a mechanism that allows you \n",
    "to create a hierarchy of classes that share a set of properties and methods by deriving a class from another class. \n",
    "Inheritance is the capability of one class to derive or inherit the properties from another class.\"\"\"\n",
    "\n",
    "class Shape:\n",
    "    def __init__(self, sides):\n",
    "        self.sides = sides\n",
    "\n",
    "    def print_sides(self):\n",
    "        print(self.sides)\n",
    "\n",
    "\n",
    "class Rectangle(Shape):\n",
    "    def __init__(self, sides, length, breadth):\n",
    "        super().__init__(sides)\n",
    "        self.length = length\n",
    "        self.breadth = breadth\n",
    "\n",
    "    def print_length(self):\n",
    "        print(self.length)\n",
    "\n",
    "    def print_breadth(self):\n",
    "        print(self.breadth)\n",
    "\n",
    "\n",
    "def main():\n",
    "    rect = Rectangle(4, 2, 2)\n",
    "    # print(rect.sides)\n",
    "    rect.print_sides()\n",
    "    rect.print_length()\n",
    "    rect.print_breadth()\n",
    "\n",
    "\n",
    "if __name__ == \"__main__\":\n",
    "    main()\n",
    "\n",
    "\n"
   ]
  }
 ],
 "metadata": {
  "kernelspec": {
   "display_name": "Python 3 (ipykernel)",
   "language": "python",
   "name": "python3"
  },
  "language_info": {
   "codemirror_mode": {
    "name": "ipython",
    "version": 3
   },
   "file_extension": ".py",
   "mimetype": "text/x-python",
   "name": "python",
   "nbconvert_exporter": "python",
   "pygments_lexer": "ipython3",
   "version": "3.9.13"
  }
 },
 "nbformat": 4,
 "nbformat_minor": 5
}
