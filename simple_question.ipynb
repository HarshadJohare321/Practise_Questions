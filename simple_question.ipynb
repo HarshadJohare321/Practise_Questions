{
 "cells": [
  {
   "cell_type": "code",
   "execution_count": 1,
   "id": "91f95652",
   "metadata": {},
   "outputs": [
    {
     "name": "stdout",
     "output_type": "stream",
     "text": [
      "Enter first number : 23\n",
      "Enter second number : 23\n",
      "Sum of  23  and 23  is 46\n"
     ]
    }
   ],
   "source": [
    "#Write a Python program to enter two numbers and find their sum.\n",
    "num1=int(input('Enter first number : '))\n",
    "num2=int(input('Enter second number : '))\n",
    "sum=(num1+num2)\n",
    "print('Sum of ',num1,\" and\",num2,' is',sum)"
   ]
  },
  {
   "cell_type": "code",
   "execution_count": null,
   "id": "c073480a",
   "metadata": {},
   "outputs": [],
   "source": [
    "#Write a Python program to enter two numbers and perform all arithmetic operations.\n",
    "num1=int(input('Enter first number : '))\n",
    "num2=int(input('Enter second number : '))"
   ]
  },
  {
   "cell_type": "code",
   "execution_count": 4,
   "id": "a6e032bc",
   "metadata": {},
   "outputs": [
    {
     "name": "stdout",
     "output_type": "stream",
     "text": [
      "Enter length : 12\n",
      "Enter Breadth : 12\n",
      "Aera of Rectangle is  144\n"
     ]
    }
   ],
   "source": [
    "#Write a Python program to enter length and breadth of a rectangle and find its Area\n",
    "length=int(input('Enter length : '))\n",
    "breadth=int(input('Enter Breadth : '))\n",
    "aera=(length*breadth)\n",
    "print('Aera of Rectangle is ',aera)"
   ]
  },
  {
   "cell_type": "code",
   "execution_count": 5,
   "id": "71d63b39",
   "metadata": {},
   "outputs": [
    {
     "name": "stdout",
     "output_type": "stream",
     "text": [
      "Enter Base : 12\n",
      "Enter Height : 78\n",
      "Aera of Triangle is  468.0\n"
     ]
    }
   ],
   "source": [
    "#Write a Python program to enter base and height of a triangle and find its area.\n",
    "base=int(input('Enter Base : '))\n",
    "height=int(input('Enter Height : '))\n",
    "aera=(base*height)*0.5\n",
    "print('Aera of Triangle is ',aera)"
   ]
  },
  {
   "cell_type": "code",
   "execution_count": 13,
   "id": "dba0193e",
   "metadata": {},
   "outputs": [
    {
     "name": "stdout",
     "output_type": "stream",
     "text": [
      "1\n",
      "enter sub marks : 5\n",
      "2\n",
      "enter sub marks : 5\n",
      "3\n",
      "enter sub marks : 5\n",
      "4\n",
      "enter sub marks : 5\n",
      "5\n",
      "enter sub marks : 5\n",
      "2.0\n"
     ]
    }
   ],
   "source": [
    "#Write a Python program to enter marks of five subjects and calculate total, average and percentage\n",
    "sum=0\n",
    "for i in range(1,6,1):\n",
    "    print(i)\n",
    "    sum=int(input('enter sub marks : '))\n",
    "    \n",
    "    sum+=sum\n",
    "ave=(sum /i)\n",
    "print(ave)"
   ]
  },
  {
   "cell_type": "code",
   "execution_count": 16,
   "id": "e4f33f7a",
   "metadata": {},
   "outputs": [
    {
     "name": "stdout",
     "output_type": "stream",
     "text": [
      "Enter length : 5\n",
      "Enter Breadth : 5\n",
      "Aera of Rectangle is  25\n",
      "Preimeter of Rectangle is  20\n"
     ]
    }
   ],
   "source": [
    "#Write a Python program to enter length and breadth of a rectangle and find its perimeter.\n",
    "length=int(input('Enter length : '))\n",
    "breadth=int(input('Enter Breadth : '))\n",
    "aera=(length*breadth)\n",
    "perimeter=2*(length+breadth)\n",
    "print('Aera of Rectangle is ',aera)\n",
    "print('Preimeter of Rectangle is ',perimeter)"
   ]
  },
  {
   "cell_type": "code",
   "execution_count": null,
   "id": "12788f9a",
   "metadata": {},
   "outputs": [],
   "source": [
    "str1=str(input('Enter your string'))\n",
    "if str1.isdigit() :\n",
    "    print('is numaric')\n",
    "else: print('not a string')"
   ]
  },
  {
   "cell_type": "code",
   "execution_count": null,
   "id": "e97420e0",
   "metadata": {},
   "outputs": [],
   "source": [
    "username=input()\n",
    "special=[]\n",
    "space=[]\n",
    "x=username.split()\n",
    "print(x)"
   ]
  },
  {
   "cell_type": "code",
   "execution_count": null,
   "id": "7e38b65c",
   "metadata": {},
   "outputs": [],
   "source": [
    "username=input()\n",
    "special=[]\n",
    "space=[]\n",
    "x=username.split()\n",
    "print(x)"
   ]
  },
  {
   "cell_type": "code",
   "execution_count": null,
   "id": "4efae141",
   "metadata": {},
   "outputs": [],
   "source": [
    "username=input('Enter username')\n",
    "special=[]\n",
    "space=[]\n",
    "x=username.split()\n",
    "print(x)"
   ]
  },
  {
   "cell_type": "code",
   "execution_count": 4,
   "id": "85383c0b",
   "metadata": {},
   "outputs": [],
   "source": [
    "l1=[4,5,6,7,8,9,10]\n",
    "l2=[]\n",
    "for i in l1:\n",
    "    l2.append(i**2)\n"
   ]
  },
  {
   "cell_type": "code",
   "execution_count": 5,
   "id": "5af01527",
   "metadata": {},
   "outputs": [],
   "source": [
    "l1=[4,5,6,7,8,9,10]\n",
    "l2=[]\n",
    "for i in l1:\n",
    "    l2.append(i**2)"
   ]
  },
  {
   "cell_type": "code",
   "execution_count": 12,
   "id": "ee711f9a",
   "metadata": {},
   "outputs": [
    {
     "ename": "SyntaxError",
     "evalue": "invalid syntax (1754041544.py, line 3)",
     "output_type": "error",
     "traceback": [
      "\u001b[1;36m  File \u001b[1;32m\"C:\\Users\\91702\\AppData\\Local\\Temp\\ipykernel_16744\\1754041544.py\"\u001b[1;36m, line \u001b[1;32m3\u001b[0m\n\u001b[1;33m    l3=[x+y for x in l1 for y in l2]:\u001b[0m\n\u001b[1;37m                                    ^\u001b[0m\n\u001b[1;31mSyntaxError\u001b[0m\u001b[1;31m:\u001b[0m invalid syntax\n"
     ]
    }
   ],
   "source": [
    "l1=[1,2,3,4,5,6]\n",
    "l2=[1,2,3,4,5,6]\n",
    "l3=[x+y for x in l1 for y in l2]:\n",
    "l3"
   ]
  },
  {
   "cell_type": "code",
   "execution_count": 18,
   "id": "acb6b29d",
   "metadata": {},
   "outputs": [
    {
     "name": "stdout",
     "output_type": "stream",
     "text": [
      "[7, 7, 8, 7, 8, 9, 7, 8, 9, 10, 7, 8, 9, 10, 11, 7, 8, 9, 10, 11, 12]\n",
      "0.5833333333333334\n"
     ]
    }
   ],
   "source": [
    "l1=[1,2,3,4,5,6]\n",
    "l2=[1,2,3,4,5,6]\n",
    "l3=[x+y for x in l1 for y in l2]\n",
    "l4=[]\n",
    "for i in l3 :\n",
    "    if i>6 :\n",
    "        l4.append(i)\n",
    "print(l4)\n",
    "probability=len(l4)/len(l3)\n",
    "print(probability)\n",
    "    \n"
   ]
  },
  {
   "cell_type": "code",
   "execution_count": 22,
   "id": "56f8dcba",
   "metadata": {},
   "outputs": [
    {
     "data": {
      "text/plain": [
       "['hh', 'ht', 'th', 'tt']"
      ]
     },
     "execution_count": 22,
     "metadata": {},
     "output_type": "execute_result"
    }
   ],
   "source": [
    "l1=[\"h\",\"t\"]\n",
    "l2=[\"h\",\"t\"]\n",
    "l3=[x+y for x in l1 for y in l2]\n",
    "l3\n",
    "for i in l3:\n",
    "    if "
   ]
  },
  {
   "cell_type": "code",
   "execution_count": null,
   "id": "be8ae0db",
   "metadata": {},
   "outputs": [],
   "source": []
  }
 ],
 "metadata": {
  "kernelspec": {
   "display_name": "Python 3 (ipykernel)",
   "language": "python",
   "name": "python3"
  },
  "language_info": {
   "codemirror_mode": {
    "name": "ipython",
    "version": 3
   },
   "file_extension": ".py",
   "mimetype": "text/x-python",
   "name": "python",
   "nbconvert_exporter": "python",
   "pygments_lexer": "ipython3",
   "version": "3.9.13"
  }
 },
 "nbformat": 4,
 "nbformat_minor": 5
}
