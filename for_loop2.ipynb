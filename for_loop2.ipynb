{
 "cells": [
  {
   "cell_type": "code",
   "execution_count": 1,
   "id": "80f3366f",
   "metadata": {},
   "outputs": [
    {
     "name": "stdout",
     "output_type": "stream",
     "text": [
      "Enter Length :9\n",
      "Enter height :9\n",
      "Aera of triangle is :  81\n"
     ]
    }
   ],
   "source": [
    "length = int(input(\"Enter Length :\"))\n",
    "height = int(input(\"Enter height :\"))\n",
    "aera = (length * height) * 0.5\n",
    "print('Aera of triangle is : ', aera)"
   ]
  },
  {
   "cell_type": "code",
   "execution_count": 2,
   "id": "35683524",
   "metadata": {},
   "outputs": [
    {
     "name": "stdout",
     "output_type": "stream",
     "text": [
      "Enter Length :8\n",
      "Enter height :8\n",
      "Aera of triangle is :  32.0\n"
     ]
    }
   ],
   "source": [
    "length = int(input(\"Enter Length :\"))\n",
    "height = int(input(\"Enter height :\"))\n",
    "aera = (length * height) * 0.5\n",
    "print('Aera of triangle is : ', aera)"
   ]
  },
  {
   "cell_type": "code",
   "execution_count": 3,
   "id": "f6d9dfd1",
   "metadata": {},
   "outputs": [
    {
     "ename": "SyntaxError",
     "evalue": "invalid character '‘' (U+2018) (410003472.py, line 3)",
     "output_type": "error",
     "traceback": [
      "\u001b[1;36m  File \u001b[1;32m\"C:\\Users\\91702\\AppData\\Local\\Temp\\ipykernel_22176\\410003472.py\"\u001b[1;36m, line \u001b[1;32m3\u001b[0m\n\u001b[1;33m    print(‘Square of num is : ‘,square)\u001b[0m\n\u001b[1;37m          ^\u001b[0m\n\u001b[1;31mSyntaxError\u001b[0m\u001b[1;31m:\u001b[0m invalid character '‘' (U+2018)\n"
     ]
    }
   ],
   "source": [
    "num=int(input('Enter num :'))\n",
    "square=num**2\n",
    "print(‘Square of num is : ‘,square)\n"
   ]
  },
  {
   "cell_type": "code",
   "execution_count": 5,
   "id": "cda2687a",
   "metadata": {},
   "outputs": [
    {
     "name": "stdout",
     "output_type": "stream",
     "text": [
      "Enter num :8\n",
      "Square of num is :  64\n"
     ]
    }
   ],
   "source": [
    "num=int(input('Enter num :'))\n",
    "square=num**2\n",
    "print('Square of num is : ',square)\n"
   ]
  },
  {
   "cell_type": "code",
   "execution_count": 9,
   "id": "691ffac4",
   "metadata": {},
   "outputs": [
    {
     "name": "stdout",
     "output_type": "stream",
     "text": [
      "Enter First number :9\n",
      "Enter Second number :9\n",
      "Addition is :  18\n",
      "Subtraction is :  0\n",
      "Multiplication is : 81\n",
      "Division is 1.0\n"
     ]
    }
   ],
   "source": [
    "num1=int(input('Enter First number :'))\n",
    "num2=int(input('Enter Second number :'))\n",
    "sum=num1+num2\n",
    "sub=num1-num2\n",
    "mul=num1*num2\n",
    "div=num1/num2\n",
    "print('Addition is : ',sum)\n",
    "print('Subtraction is : ',sub)\n",
    "print(\"Multiplication is :\",mul)\n",
    "print('Division is',div)\n"
   ]
  },
  {
   "cell_type": "code",
   "execution_count": 13,
   "id": "cae15a1a",
   "metadata": {},
   "outputs": [
    {
     "ename": "SyntaxError",
     "evalue": "invalid syntax (699408247.py, line 3)",
     "output_type": "error",
     "traceback": [
      "\u001b[1;36m  File \u001b[1;32m\"C:\\Users\\91702\\AppData\\Local\\Temp\\ipykernel_22176\\699408247.py\"\u001b[1;36m, line \u001b[1;32m3\u001b[0m\n\u001b[1;33m    if (num1 > num2)\u001b[0m\n\u001b[1;37m                    ^\u001b[0m\n\u001b[1;31mSyntaxError\u001b[0m\u001b[1;31m:\u001b[0m invalid syntax\n"
     ]
    }
   ],
   "source": [
    "num1=int(input('Enter First number :'))\n",
    "num2=int(input('Enter Second number :'))\n",
    "if (num1 > num2)\n",
    " print('num1 is greater')\n",
    "else\n",
    " print('num2 is greater')\n"
   ]
  },
  {
   "cell_type": "code",
   "execution_count": 18,
   "id": "02e1a14f",
   "metadata": {},
   "outputs": [
    {
     "name": "stdout",
     "output_type": "stream",
     "text": [
      "Enter First number :9\n",
      "Enter Second number :8\n",
      "num1 is greater\n"
     ]
    }
   ],
   "source": [
    "num1=int(input('Enter First number :'))\n",
    "num2=int(input('Enter Second number :'))\n",
    "if num1 > num2 :\n",
    " print('num1 is greater')\n",
    "else :\n",
    " print('num2 is greater')\n",
    "    "
   ]
  },
  {
   "cell_type": "code",
   "execution_count": 20,
   "id": "a16a8a18",
   "metadata": {},
   "outputs": [
    {
     "name": "stdout",
     "output_type": "stream",
     "text": [
      "Enter First number :-9\n",
      "number is negative\n"
     ]
    }
   ],
   "source": [
    "num1=int(input('Enter First number :'))\n",
    "if num1>=0 :\n",
    "    print ('number is positive')\n",
    "else :\n",
    "    print ('number is negative')"
   ]
  },
  {
   "cell_type": "code",
   "execution_count": null,
   "id": "f782ba5e",
   "metadata": {},
   "outputs": [],
   "source": []
  },
  {
   "cell_type": "code",
   "execution_count": 21,
   "id": "f51d952b",
   "metadata": {},
   "outputs": [
    {
     "data": {
      "text/plain": [
       "2"
      ]
     },
     "execution_count": 21,
     "metadata": {},
     "output_type": "execute_result"
    }
   ],
   "source": []
  },
  {
   "cell_type": "markdown",
   "id": "b017edb7",
   "metadata": {},
   "source": [
    "#### num=int(input('Enter  number :'))"
   ]
  },
  {
   "cell_type": "code",
   "execution_count": 30,
   "id": "48cc96d8",
   "metadata": {},
   "outputs": [
    {
     "name": "stdout",
     "output_type": "stream",
     "text": [
      "Enter four digit number :9876\n",
      "6\n"
     ]
    }
   ],
   "source": [
    "num=int(input('Enter four digit number :'))\n",
    "if num>999 and num<10000 :\n",
    " x = num // 1000\n",
    " x2 = (num - x * 1000) // 100\n",
    " x3 = (num - x *1000 -x2 *100)//10 \n",
    " x4 = (num-x*1000-x2*100-x3*10)\n",
    " print(x4)\n",
    "else :  \n",
    "    print ('please enter 4 digit number')"
   ]
  },
  {
   "cell_type": "code",
   "execution_count": 33,
   "id": "9ab2da1c",
   "metadata": {},
   "outputs": [
    {
     "name": "stdout",
     "output_type": "stream",
     "text": [
      "0\n",
      "1\n",
      "2\n",
      "3\n",
      "4\n",
      "5\n",
      "6\n",
      "7\n",
      "8\n",
      "9\n"
     ]
    }
   ],
   "source": [
    "for i in range(0,10,1):\n",
    " print (i)"
   ]
  },
  {
   "cell_type": "code",
   "execution_count": 35,
   "id": "f828ad25",
   "metadata": {},
   "outputs": [
    {
     "name": "stdout",
     "output_type": "stream",
     "text": [
      "201\n",
      "203\n",
      "205\n",
      "207\n",
      "209\n",
      "211\n",
      "213\n",
      "215\n",
      "217\n",
      "219\n",
      "221\n",
      "223\n",
      "225\n",
      "227\n",
      "229\n",
      "231\n",
      "233\n",
      "235\n",
      "237\n",
      "239\n",
      "241\n",
      "243\n",
      "245\n",
      "247\n",
      "249\n",
      "251\n",
      "253\n",
      "255\n",
      "257\n",
      "259\n",
      "261\n",
      "263\n",
      "265\n",
      "267\n",
      "269\n",
      "271\n",
      "273\n",
      "275\n",
      "277\n",
      "279\n",
      "281\n",
      "283\n",
      "285\n",
      "287\n",
      "289\n",
      "291\n",
      "293\n",
      "295\n",
      "297\n",
      "299\n",
      "301\n",
      "303\n",
      "305\n",
      "307\n",
      "309\n",
      "311\n",
      "313\n",
      "315\n",
      "317\n",
      "319\n",
      "321\n",
      "323\n",
      "325\n",
      "327\n",
      "329\n",
      "331\n",
      "333\n",
      "335\n",
      "337\n",
      "339\n",
      "341\n",
      "343\n",
      "345\n",
      "347\n",
      "349\n",
      "351\n",
      "353\n",
      "355\n",
      "357\n",
      "359\n",
      "361\n",
      "363\n",
      "365\n",
      "367\n",
      "369\n",
      "371\n",
      "373\n",
      "375\n",
      "377\n",
      "379\n",
      "381\n",
      "383\n",
      "385\n",
      "387\n",
      "389\n",
      "391\n",
      "393\n",
      "395\n",
      "397\n",
      "399\n"
     ]
    }
   ],
   "source": [
    "for i in range(201,401,2):\n",
    " print(i)"
   ]
  },
  {
   "cell_type": "code",
   "execution_count": 39,
   "id": "defb47cd",
   "metadata": {},
   "outputs": [
    {
     "name": "stdout",
     "output_type": "stream",
     "text": [
      "enter the value of n50\n",
      "1\n",
      "3\n",
      "5\n",
      "7\n",
      "9\n",
      "11\n",
      "13\n",
      "15\n",
      "17\n",
      "19\n",
      "21\n",
      "23\n",
      "25\n",
      "27\n",
      "29\n",
      "31\n",
      "33\n",
      "35\n",
      "37\n",
      "39\n",
      "41\n",
      "43\n",
      "45\n",
      "47\n",
      "49\n"
     ]
    }
   ],
   "source": [
    "n=int(input(\"enter the value of n\"))\n",
    "for i in range(1,n,1):\n",
    "    if i%2!=0 :\n",
    "        print(i)"
   ]
  },
  {
   "cell_type": "code",
   "execution_count": 48,
   "id": "400cd3ea",
   "metadata": {},
   "outputs": [
    {
     "name": "stdout",
     "output_type": "stream",
     "text": [
      "3 x 1 = 3\n",
      "3 x 2 = 6\n",
      "3 x 3 = 9\n",
      "3 x 4 = 12\n",
      "3 x 5 = 15\n",
      "3 x 6 = 18\n",
      "3 x 7 = 21\n",
      "3 x 8 = 24\n",
      "3 x 9 = 27\n",
      "3 x 10 = 30\n"
     ]
    }
   ],
   "source": [
    "for i in range(1,11,1):\n",
    " print(\"3 x\",i,\"=\", i*3)"
   ]
  },
  {
   "cell_type": "code",
   "execution_count": null,
   "id": "6d9af014",
   "metadata": {},
   "outputs": [],
   "source": []
  }
 ],
 "metadata": {
  "kernelspec": {
   "display_name": "Python 3 (ipykernel)",
   "language": "python",
   "name": "python3"
  },
  "language_info": {
   "codemirror_mode": {
    "name": "ipython",
    "version": 3
   },
   "file_extension": ".py",
   "mimetype": "text/x-python",
   "name": "python",
   "nbconvert_exporter": "python",
   "pygments_lexer": "ipython3",
   "version": "3.9.13"
  }
 },
 "nbformat": 4,
 "nbformat_minor": 5
}
